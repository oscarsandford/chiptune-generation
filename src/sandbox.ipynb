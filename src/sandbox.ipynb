{
 "cells": [
  {
   "cell_type": "markdown",
   "id": "bc14eb22",
   "metadata": {},
   "source": [
    "## Chiptune Generation Project Sandbox\n",
    "\n",
    "Notebook for trying out some code in an interactive, sandbox-like environment."
   ]
  },
  {
   "cell_type": "code",
   "execution_count": 2,
   "id": "64e49203",
   "metadata": {},
   "outputs": [],
   "source": [
    "from modules import mcc_parser, mcc_markov, mcc_waves, mcc_builder\n",
    "\n",
    "import IPython.display as ipd\n",
    "import matplotlib.pyplot as plt\n",
    "%matplotlib inline\n",
    "\n",
    "sr = 44100"
   ]
  },
  {
   "cell_type": "code",
   "execution_count": 3,
   "id": "319dd90e-ccb2-4fd3-827b-61f8359be9fb",
   "metadata": {},
   "outputs": [],
   "source": [
    "\"\"\"\n",
    "Single track example.\n",
    "\"\"\"\n",
    "\n",
    "# Open the MidiFile.\n",
    "mid = mcc_parser.open_midi(\"data/Zgbreve.mid\")\n",
    "# Extract attributes such as tempo and time signature from header track.\n",
    "info = mcc_parser.extract_midi_info(mid.tracks[0])\n",
    "tracks = mcc_parser.extract_midi_tracks(mid.tracks)\n",
    "\n",
    "# First track.\n",
    "track = mcc_parser.midi_to_rtttl(tracks[0], mid.ticks_per_beat)\n",
    "\n",
    "# Train and predict.\n",
    "mm = mcc_markov.KMarkov(3)\n",
    "mm.fit(track)\n",
    "# Passing the track we just trained on allows us to control the starting note of prediction.\n",
    "gen = mm.predict(samples=50, priors=track)\n",
    "\n",
    "# Join the original notes with the generated notes.\n",
    "full = mcc_builder.join(track, \",\", gen)\n",
    "\n",
    "# Render the notes as a waveform.\n",
    "res = mcc_waves.notes_to_waveform(full, bpm=info[\"tempo\"][0], wave_function=mcc_waves.triangle_wave)"
   ]
  },
  {
   "cell_type": "code",
   "execution_count": 5,
   "id": "c6d2c0a6",
   "metadata": {
    "scrolled": false
   },
   "outputs": [],
   "source": [
    "# ipd.Audio(res, rate=sr)"
   ]
  },
  {
   "cell_type": "code",
   "execution_count": 4,
   "id": "922aed18",
   "metadata": {},
   "outputs": [],
   "source": [
    "res = mcc_waves.notes_to_waveform(track, bpm=info[\"tempo\"][0], wave_function=mcc_waves.triangle_wave)\n",
    "# ipd.Audio(res, rate=sr)"
   ]
  },
  {
   "cell_type": "code",
   "execution_count": 9,
   "id": "8307a1c3",
   "metadata": {
    "scrolled": true
   },
   "outputs": [],
   "source": [
    "\"\"\"\n",
    "Multi-track example.\n",
    "\"\"\"\n",
    "\n",
    "# Open the MidiFile.\n",
    "mid = mcc_parser.open_midi(\"data/Zgbreve.mid\")\n",
    "# Extract attributes such as tempo and time signature from header track.\n",
    "info = mcc_parser.extract_midi_info(mid.tracks[0])\n",
    "tracks = mcc_parser.extract_midi_tracks(mid.tracks)\n",
    "\n",
    "out = []\n",
    "\n",
    "for track in tracks:\n",
    "    track = mcc_parser.midi_to_rtttl(track, mid.ticks_per_beat)\n",
    "\n",
    "    # Train and predict.\n",
    "    mm = mcc_markov.KMarkov(30)\n",
    "    mm.fit(track)\n",
    "    gen = mm.predict(50)\n",
    "\n",
    "    # Join the original notes with the generated notes.\n",
    "    full = mcc_builder.join(track, \",\", gen)\n",
    "    \n",
    "    # Render the notes as a waveform.\n",
    "    res = mcc_waves.notes_to_waveform(full, bpm=info[\"tempo\"][0], wave_function=mcc_waves.triangle_wave)\n",
    "    out.append(res)\n",
    "\n",
    "# TODO: this track combination does not line up the \n",
    "# tracks correctly. Results in tracks out of sync.\n",
    "done = mcc_builder.combine_tracks(out)\n"
   ]
  },
  {
   "cell_type": "code",
   "execution_count": 6,
   "id": "1eec4ad1",
   "metadata": {},
   "outputs": [],
   "source": [
    "# ipd.Audio(done, rate=sr)"
   ]
  }
 ],
 "metadata": {
  "kernelspec": {
   "display_name": "Python 3 (ipykernel)",
   "language": "python",
   "name": "python3"
  },
  "language_info": {
   "codemirror_mode": {
    "name": "ipython",
    "version": 3
   },
   "file_extension": ".py",
   "mimetype": "text/x-python",
   "name": "python",
   "nbconvert_exporter": "python",
   "pygments_lexer": "ipython3",
   "version": "3.8.10"
  }
 },
 "nbformat": 4,
 "nbformat_minor": 5
}
