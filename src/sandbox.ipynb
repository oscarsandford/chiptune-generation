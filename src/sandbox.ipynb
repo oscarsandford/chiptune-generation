{
 "cells": [
  {
   "cell_type": "markdown",
   "id": "bc14eb22",
   "metadata": {},
   "source": [
    "## Chiptune Generation Project Sandbox\n",
    "\n",
    "Notebook for trying out some code in an interactive, sandbox-like environment."
   ]
  },
  {
   "cell_type": "code",
   "execution_count": 1,
   "id": "64e49203",
   "metadata": {},
   "outputs": [],
   "source": [
    "from modules import mcc_waves, mcc_markov, mcc_builder\n",
    "\n",
    "import IPython.display as ipd\n",
    "import matplotlib.pyplot as plt\n",
    "%matplotlib inline\n",
    "\n",
    "sr = 44100"
   ]
  },
  {
   "cell_type": "code",
   "execution_count": null,
   "id": "a6836550",
   "metadata": {
    "scrolled": true
   },
   "outputs": [],
   "source": [
    "org = \"16e6,16e6,32p,8e6,16c6,8e6,8g6,8p,8g,8p,8c6,16p,8g,16p,8e,16p,8a,8b,16a#,8a,16g.,16e6,16g6,8a6,16f6,8g6,8e6,16c6,16d6,8b,16p,8c6,16p,8g,16p,8e,16p,8a,8b,16a#,8a,16g.,16e6,16g6,8a6,16f6,8g6,8e6,16c6,16d6,8b,8p,16g6,16f#6,16f6,16d#6,16p,16e6,16p,16g#,16a,16c6,16p,16a,16c6,16d6,8p,16g6,16f#6,16f6,16d#6,16p,16e6,16p,16c7,16p,16c7,16c7,p,16g6,16f#6,16f6,16d#6,16p,16e6,16p,16g#,16a,16c6,16p,16a,16c6,16d6,8p,16d#6,8p,16d6,8p,16c6\"\n",
    "\n",
    "mm = mcc_markov.KMarkov(3)\n",
    "mm.fit(org)\n",
    "gen = mm.predict(500)\n",
    "\n",
    "full = org + \",\" + \",\".join(gen)\n",
    "\n",
    "res = mcc_waves.notes_to_waveform(full, bpm=100, wave_function=mcc_waves.triangle_wave)\n",
    "# ipd.Audio(res, rate=sr)"
   ]
  }
 ],
 "metadata": {
  "kernelspec": {
   "display_name": "Python 3 (ipykernel)",
   "language": "python",
   "name": "python3"
  },
  "language_info": {
   "codemirror_mode": {
    "name": "ipython",
    "version": 3
   },
   "file_extension": ".py",
   "mimetype": "text/x-python",
   "name": "python",
   "nbconvert_exporter": "python",
   "pygments_lexer": "ipython3",
   "version": "3.8.10"
  }
 },
 "nbformat": 4,
 "nbformat_minor": 5
}
