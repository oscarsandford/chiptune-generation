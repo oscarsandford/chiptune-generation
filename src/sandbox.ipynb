{
 "cells": [
  {
   "cell_type": "markdown",
   "id": "bc14eb22",
   "metadata": {},
   "source": [
    "## Chiptune Generation Project Sandbox\n",
    "\n",
    "Notebook for trying out some code in an interactive, sandbox-like environment."
   ]
  },
  {
   "cell_type": "code",
   "execution_count": 2,
   "id": "64e49203",
   "metadata": {},
   "outputs": [
    {
     "ename": "ModuleNotFoundError",
     "evalue": "No module named 'midi_numbers'",
     "output_type": "error",
     "traceback": [
      "\u001b[1;31m---------------------------------------------------------------------------\u001b[0m",
      "\u001b[1;31mModuleNotFoundError\u001b[0m                       Traceback (most recent call last)",
      "\u001b[1;32mc:\\Users\\jaepa\\chiptune-generation\\src\\sandbox.ipynb Cell 2'\u001b[0m in \u001b[0;36m<cell line: 1>\u001b[1;34m()\u001b[0m\n\u001b[1;32m----> <a href='vscode-notebook-cell:/c%3A/Users/jaepa/chiptune-generation/src/sandbox.ipynb#ch0000001?line=0'>1</a>\u001b[0m \u001b[39mfrom\u001b[39;00m \u001b[39mmodules\u001b[39;00m \u001b[39mimport\u001b[39;00m mcc_waves, mcc_markov, mcc_builder, mcc_parser\n\u001b[0;32m      <a href='vscode-notebook-cell:/c%3A/Users/jaepa/chiptune-generation/src/sandbox.ipynb#ch0000001?line=2'>3</a>\u001b[0m \u001b[39mimport\u001b[39;00m \u001b[39mIPython\u001b[39;00m\u001b[39m.\u001b[39;00m\u001b[39mdisplay\u001b[39;00m \u001b[39mas\u001b[39;00m \u001b[39mipd\u001b[39;00m\n\u001b[0;32m      <a href='vscode-notebook-cell:/c%3A/Users/jaepa/chiptune-generation/src/sandbox.ipynb#ch0000001?line=3'>4</a>\u001b[0m \u001b[39mimport\u001b[39;00m \u001b[39mmatplotlib\u001b[39;00m\u001b[39m.\u001b[39;00m\u001b[39mpyplot\u001b[39;00m \u001b[39mas\u001b[39;00m \u001b[39mplt\u001b[39;00m\n",
      "File \u001b[1;32mc:\\Users\\jaepa\\chiptune-generation\\src\\modules\\mcc_parser.py:5\u001b[0m, in \u001b[0;36m<module>\u001b[1;34m\u001b[0m\n\u001b[0;32m      <a href='file:///c%3A/Users/jaepa/chiptune-generation/src/modules/mcc_parser.py?line=2'>3</a>\u001b[0m \n\u001b[0;32m      <a href='file:///c%3A/Users/jaepa/chiptune-generation/src/modules/mcc_parser.py?line=3'>4</a>\u001b[0m from mido import MidiFile, tempo2bpm\n\u001b[1;32m----> <a href='file:///c%3A/Users/jaepa/chiptune-generation/src/modules/mcc_parser.py?line=4'>5</a>\u001b[0m #import midi_numbers as Instrument\n\u001b[0;32m      <a href='file:///c%3A/Users/jaepa/chiptune-generation/src/modules/mcc_parser.py?line=5'>6</a>\u001b[0m from midi_numbers import * as Instrument\n\u001b[0;32m      <a href='file:///c%3A/Users/jaepa/chiptune-generation/src/modules/mcc_parser.py?line=6'>7</a>\u001b[0m \n",
      "\u001b[1;31mModuleNotFoundError\u001b[0m: No module named 'midi_numbers'"
     ]
    }
   ],
   "source": [
    "from modules import mcc_waves, mcc_markov, mcc_builder, mcc_parser\n",
    "\n",
    "import IPython.display as ipd\n",
    "import matplotlib.pyplot as plt\n",
    "%matplotlib inline\n",
    "\n",
    "sr = 44100"
   ]
  },
  {
   "cell_type": "code",
   "execution_count": 2,
   "id": "a79b54bb-5bf1-4baf-ab97-1acd80a838bc",
   "metadata": {},
   "outputs": [
    {
     "name": "stdout",
     "output_type": "stream",
     "text": [
      "Requirement already satisfied: numpy in c:\\users\\jaepa\\appdata\\local\\programs\\python\\python310\\lib\\site-packages (from -r requirements.txt (line 1)) (1.22.3)\n",
      "Requirement already satisfied: matplotlib in c:\\users\\jaepa\\appdata\\local\\programs\\python\\python310\\lib\\site-packages (from -r requirements.txt (line 2)) (3.5.1)\n",
      "Requirement already satisfied: ipython in c:\\users\\jaepa\\appdata\\local\\programs\\python\\python310\\lib\\site-packages (from -r requirements.txt (line 3)) (8.1.1)\n",
      "Requirement already satisfied: notebook in c:\\users\\jaepa\\appdata\\local\\programs\\python\\python310\\lib\\site-packages (from -r requirements.txt (line 4)) (6.4.8)\n",
      "Requirement already satisfied: mido in c:\\users\\jaepa\\appdata\\local\\programs\\python\\python310\\lib\\site-packages (from -r requirements.txt (line 5)) (1.2.10)\n",
      "Requirement already satisfied: scipy in c:\\users\\jaepa\\appdata\\local\\programs\\python\\python310\\lib\\site-packages (from -r requirements.txt (line 6)) (1.8.0)\n",
      "Requirement already satisfied: cycler>=0.10 in c:\\users\\jaepa\\appdata\\local\\programs\\python\\python310\\lib\\site-packages (from matplotlib->-r requirements.txt (line 2)) (0.11.0)\n",
      "Requirement already satisfied: kiwisolver>=1.0.1 in c:\\users\\jaepa\\appdata\\local\\programs\\python\\python310\\lib\\site-packages (from matplotlib->-r requirements.txt (line 2)) (1.3.2)\n",
      "Requirement already satisfied: python-dateutil>=2.7 in c:\\users\\jaepa\\appdata\\local\\programs\\python\\python310\\lib\\site-packages (from matplotlib->-r requirements.txt (line 2)) (2.8.2)\n",
      "Requirement already satisfied: pyparsing>=2.2.1 in c:\\users\\jaepa\\appdata\\local\\programs\\python\\python310\\lib\\site-packages (from matplotlib->-r requirements.txt (line 2)) (3.0.7)\n",
      "Requirement already satisfied: fonttools>=4.22.0 in c:\\users\\jaepa\\appdata\\local\\programs\\python\\python310\\lib\\site-packages (from matplotlib->-r requirements.txt (line 2)) (4.30.0)\n",
      "Requirement already satisfied: pillow>=6.2.0 in c:\\users\\jaepa\\appdata\\local\\programs\\python\\python310\\lib\\site-packages (from matplotlib->-r requirements.txt (line 2)) (9.0.1)\n",
      "Requirement already satisfied: packaging>=20.0 in c:\\users\\jaepa\\appdata\\local\\programs\\python\\python310\\lib\\site-packages (from matplotlib->-r requirements.txt (line 2)) (21.3)\n",
      "Requirement already satisfied: colorama in c:\\users\\jaepa\\appdata\\local\\programs\\python\\python310\\lib\\site-packages (from ipython->-r requirements.txt (line 3)) (0.4.4)\n",
      "Requirement already satisfied: pygments>=2.4.0 in c:\\users\\jaepa\\appdata\\local\\programs\\python\\python310\\lib\\site-packages (from ipython->-r requirements.txt (line 3)) (2.11.2)\n",
      "Requirement already satisfied: traitlets>=5 in c:\\users\\jaepa\\appdata\\local\\programs\\python\\python310\\lib\\site-packages (from ipython->-r requirements.txt (line 3)) (5.1.1)\n",
      "Requirement already satisfied: backcall in c:\\users\\jaepa\\appdata\\local\\programs\\python\\python310\\lib\\site-packages (from ipython->-r requirements.txt (line 3)) (0.2.0)\n",
      "Requirement already satisfied: prompt-toolkit!=3.0.0,!=3.0.1,<3.1.0,>=2.0.0 in c:\\users\\jaepa\\appdata\\local\\programs\\python\\python310\\lib\\site-packages (from ipython->-r requirements.txt (line 3)) (3.0.28)\n",
      "Requirement already satisfied: pickleshare in c:\\users\\jaepa\\appdata\\local\\programs\\python\\python310\\lib\\site-packages (from ipython->-r requirements.txt (line 3)) (0.7.5)\n",
      "Requirement already satisfied: stack-data in c:\\users\\jaepa\\appdata\\local\\programs\\python\\python310\\lib\\site-packages (from ipython->-r requirements.txt (line 3)) (0.2.0)\n",
      "Requirement already satisfied: jedi>=0.16 in c:\\users\\jaepa\\appdata\\local\\programs\\python\\python310\\lib\\site-packages (from ipython->-r requirements.txt (line 3)) (0.18.1)\n",
      "Requirement already satisfied: setuptools>=18.5 in c:\\users\\jaepa\\appdata\\local\\programs\\python\\python310\\lib\\site-packages (from ipython->-r requirements.txt (line 3)) (58.1.0)\n",
      "Requirement already satisfied: matplotlib-inline in c:\\users\\jaepa\\appdata\\local\\programs\\python\\python310\\lib\\site-packages (from ipython->-r requirements.txt (line 3)) (0.1.3)\n"
     ]
    },
    {
     "name": "stderr",
     "output_type": "stream",
     "text": [
      "WARNING: You are using pip version 21.2.4; however, version 22.0.4 is available.\n",
      "You should consider upgrading via the 'C:\\Users\\jaepa\\AppData\\Local\\Programs\\Python\\Python310\\python.exe -m pip install --upgrade pip' command.\n"
     ]
    },
    {
     "name": "stdout",
     "output_type": "stream",
     "text": [
      "Requirement already satisfied: decorator in c:\\users\\jaepa\\appdata\\local\\programs\\python\\python310\\lib\\site-packages (from ipython->-r requirements.txt (line 3)) (5.1.1)\n",
      "Requirement already satisfied: tornado>=6.1 in c:\\users\\jaepa\\appdata\\local\\programs\\python\\python310\\lib\\site-packages (from notebook->-r requirements.txt (line 4)) (6.1)\n",
      "Requirement already satisfied: pyzmq>=17 in c:\\users\\jaepa\\appdata\\local\\programs\\python\\python310\\lib\\site-packages (from notebook->-r requirements.txt (line 4)) (22.3.0)\n",
      "Requirement already satisfied: ipykernel in c:\\users\\jaepa\\appdata\\local\\programs\\python\\python310\\lib\\site-packages (from notebook->-r requirements.txt (line 4)) (6.9.1)\n",
      "Requirement already satisfied: prometheus-client in c:\\users\\jaepa\\appdata\\local\\programs\\python\\python310\\lib\\site-packages (from notebook->-r requirements.txt (line 4)) (0.13.1)\n",
      "Requirement already satisfied: ipython-genutils in c:\\users\\jaepa\\appdata\\local\\programs\\python\\python310\\lib\\site-packages (from notebook->-r requirements.txt (line 4)) (0.2.0)\n",
      "Requirement already satisfied: nbformat in c:\\users\\jaepa\\appdata\\local\\programs\\python\\python310\\lib\\site-packages (from notebook->-r requirements.txt (line 4)) (5.2.0)\n",
      "Requirement already satisfied: jinja2 in c:\\users\\jaepa\\appdata\\local\\programs\\python\\python310\\lib\\site-packages (from notebook->-r requirements.txt (line 4)) (3.0.3)\n",
      "Requirement already satisfied: nest-asyncio>=1.5 in c:\\users\\jaepa\\appdata\\local\\programs\\python\\python310\\lib\\site-packages (from notebook->-r requirements.txt (line 4)) (1.5.4)\n",
      "Requirement already satisfied: jupyter-client>=5.3.4 in c:\\users\\jaepa\\appdata\\local\\programs\\python\\python310\\lib\\site-packages (from notebook->-r requirements.txt (line 4)) (7.1.2)\n",
      "Requirement already satisfied: terminado>=0.8.3 in c:\\users\\jaepa\\appdata\\local\\programs\\python\\python310\\lib\\site-packages (from notebook->-r requirements.txt (line 4)) (0.13.3)\n",
      "Requirement already satisfied: argon2-cffi in c:\\users\\jaepa\\appdata\\local\\programs\\python\\python310\\lib\\site-packages (from notebook->-r requirements.txt (line 4)) (21.3.0)\n",
      "Requirement already satisfied: jupyter-core>=4.6.1 in c:\\users\\jaepa\\appdata\\local\\programs\\python\\python310\\lib\\site-packages (from notebook->-r requirements.txt (line 4)) (4.9.2)\n",
      "Requirement already satisfied: nbconvert in c:\\users\\jaepa\\appdata\\local\\programs\\python\\python310\\lib\\site-packages (from notebook->-r requirements.txt (line 4)) (6.4.4)\n",
      "Requirement already satisfied: Send2Trash>=1.8.0 in c:\\users\\jaepa\\appdata\\local\\programs\\python\\python310\\lib\\site-packages (from notebook->-r requirements.txt (line 4)) (1.8.0)\n",
      "Requirement already satisfied: parso<0.9.0,>=0.8.0 in c:\\users\\jaepa\\appdata\\local\\programs\\python\\python310\\lib\\site-packages (from jedi>=0.16->ipython->-r requirements.txt (line 3)) (0.8.3)\n",
      "Requirement already satisfied: entrypoints in c:\\users\\jaepa\\appdata\\local\\programs\\python\\python310\\lib\\site-packages (from jupyter-client>=5.3.4->notebook->-r requirements.txt (line 4)) (0.4)\n",
      "Requirement already satisfied: pywin32>=1.0 in c:\\users\\jaepa\\appdata\\local\\programs\\python\\python310\\lib\\site-packages (from jupyter-core>=4.6.1->notebook->-r requirements.txt (line 4)) (303)\n",
      "Requirement already satisfied: wcwidth in c:\\users\\jaepa\\appdata\\local\\programs\\python\\python310\\lib\\site-packages (from prompt-toolkit!=3.0.0,!=3.0.1,<3.1.0,>=2.0.0->ipython->-r requirements.txt (line 3)) (0.2.5)\n",
      "Requirement already satisfied: six>=1.5 in c:\\users\\jaepa\\appdata\\local\\programs\\python\\python310\\lib\\site-packages (from python-dateutil>=2.7->matplotlib->-r requirements.txt (line 2)) (1.16.0)\n",
      "Requirement already satisfied: pywinpty>=1.1.0 in c:\\users\\jaepa\\appdata\\local\\programs\\python\\python310\\lib\\site-packages (from terminado>=0.8.3->notebook->-r requirements.txt (line 4)) (2.0.5)\n",
      "Requirement already satisfied: argon2-cffi-bindings in c:\\users\\jaepa\\appdata\\local\\programs\\python\\python310\\lib\\site-packages (from argon2-cffi->notebook->-r requirements.txt (line 4)) (21.2.0)\n",
      "Requirement already satisfied: cffi>=1.0.1 in c:\\users\\jaepa\\appdata\\local\\programs\\python\\python310\\lib\\site-packages (from argon2-cffi-bindings->argon2-cffi->notebook->-r requirements.txt (line 4)) (1.15.0)\n",
      "Requirement already satisfied: pycparser in c:\\users\\jaepa\\appdata\\local\\programs\\python\\python310\\lib\\site-packages (from cffi>=1.0.1->argon2-cffi-bindings->argon2-cffi->notebook->-r requirements.txt (line 4)) (2.21)\n",
      "Requirement already satisfied: debugpy<2.0,>=1.0.0 in c:\\users\\jaepa\\appdata\\local\\programs\\python\\python310\\lib\\site-packages (from ipykernel->notebook->-r requirements.txt (line 4)) (1.5.1)\n",
      "Requirement already satisfied: MarkupSafe>=2.0 in c:\\users\\jaepa\\appdata\\local\\programs\\python\\python310\\lib\\site-packages (from jinja2->notebook->-r requirements.txt (line 4)) (2.1.0)\n",
      "Requirement already satisfied: pandocfilters>=1.4.1 in c:\\users\\jaepa\\appdata\\local\\programs\\python\\python310\\lib\\site-packages (from nbconvert->notebook->-r requirements.txt (line 4)) (1.5.0)\n",
      "Requirement already satisfied: nbclient<0.6.0,>=0.5.0 in c:\\users\\jaepa\\appdata\\local\\programs\\python\\python310\\lib\\site-packages (from nbconvert->notebook->-r requirements.txt (line 4)) (0.5.13)\n",
      "Requirement already satisfied: testpath in c:\\users\\jaepa\\appdata\\local\\programs\\python\\python310\\lib\\site-packages (from nbconvert->notebook->-r requirements.txt (line 4)) (0.6.0)\n",
      "Requirement already satisfied: bleach in c:\\users\\jaepa\\appdata\\local\\programs\\python\\python310\\lib\\site-packages (from nbconvert->notebook->-r requirements.txt (line 4)) (4.1.0)\n",
      "Requirement already satisfied: mistune<2,>=0.8.1 in c:\\users\\jaepa\\appdata\\local\\programs\\python\\python310\\lib\\site-packages (from nbconvert->notebook->-r requirements.txt (line 4)) (0.8.4)\n",
      "Requirement already satisfied: jupyterlab-pygments in c:\\users\\jaepa\\appdata\\local\\programs\\python\\python310\\lib\\site-packages (from nbconvert->notebook->-r requirements.txt (line 4)) (0.1.2)\n",
      "Requirement already satisfied: beautifulsoup4 in c:\\users\\jaepa\\appdata\\local\\programs\\python\\python310\\lib\\site-packages (from nbconvert->notebook->-r requirements.txt (line 4)) (4.10.0)\n",
      "Requirement already satisfied: defusedxml in c:\\users\\jaepa\\appdata\\local\\programs\\python\\python310\\lib\\site-packages (from nbconvert->notebook->-r requirements.txt (line 4)) (0.7.1)\n",
      "Requirement already satisfied: jsonschema!=2.5.0,>=2.4 in c:\\users\\jaepa\\appdata\\local\\programs\\python\\python310\\lib\\site-packages (from nbformat->notebook->-r requirements.txt (line 4)) (4.4.0)\n",
      "Requirement already satisfied: pyrsistent!=0.17.0,!=0.17.1,!=0.17.2,>=0.14.0 in c:\\users\\jaepa\\appdata\\local\\programs\\python\\python310\\lib\\site-packages (from jsonschema!=2.5.0,>=2.4->nbformat->notebook->-r requirements.txt (line 4)) (0.18.1)\n",
      "Requirement already satisfied: attrs>=17.4.0 in c:\\users\\jaepa\\appdata\\local\\programs\\python\\python310\\lib\\site-packages (from jsonschema!=2.5.0,>=2.4->nbformat->notebook->-r requirements.txt (line 4)) (21.4.0)\n",
      "Requirement already satisfied: soupsieve>1.2 in c:\\users\\jaepa\\appdata\\local\\programs\\python\\python310\\lib\\site-packages (from beautifulsoup4->nbconvert->notebook->-r requirements.txt (line 4)) (2.3.1)\n",
      "Requirement already satisfied: webencodings in c:\\users\\jaepa\\appdata\\local\\programs\\python\\python310\\lib\\site-packages (from bleach->nbconvert->notebook->-r requirements.txt (line 4)) (0.5.1)\n",
      "Requirement already satisfied: executing in c:\\users\\jaepa\\appdata\\local\\programs\\python\\python310\\lib\\site-packages (from stack-data->ipython->-r requirements.txt (line 3)) (0.8.3)\n",
      "Requirement already satisfied: asttokens in c:\\users\\jaepa\\appdata\\local\\programs\\python\\python310\\lib\\site-packages (from stack-data->ipython->-r requirements.txt (line 3)) (2.0.5)\n",
      "Requirement already satisfied: pure-eval in c:\\users\\jaepa\\appdata\\local\\programs\\python\\python310\\lib\\site-packages (from stack-data->ipython->-r requirements.txt (line 3)) (0.2.2)\n"
     ]
    }
   ],
   "source": []
  },
  {
   "cell_type": "code",
   "execution_count": null,
   "id": "a6836550",
   "metadata": {
    "scrolled": true
   },
   "outputs": [],
   "source": [
    "org = \"16e6,16e6,32p,8e6,16c6,8e6,8g6,8p,8g,8p,8c6,16p,8g,16p,8e,16p,8a,8b,16a#,8a,16g.,16e6,16g6,8a6,16f6,8g6,8e6,16c6,16d6,8b,16p,8c6,16p,8g,16p,8e,16p,8a,8b,16a#,8a,16g.,16e6,16g6,8a6,16f6,8g6,8e6,16c6,16d6,8b,8p,16g6,16f#6,16f6,16d#6,16p,16e6,16p,16g#,16a,16c6,16p,16a,16c6,16d6,8p,16g6,16f#6,16f6,16d#6,16p,16e6,16p,16c7,16p,16c7,16c7,p,16g6,16f#6,16f6,16d#6,16p,16e6,16p,16g#,16a,16c6,16p,16a,16c6,16d6,8p,16d#6,8p,16d6,8p,16c6\"\n",
    "\n",
    "mm = mcc_markov.KMarkov(3)\n",
    "mm.fit(org)\n",
    "gen = mm.predict(100, DEBUG_LVL=0)\n",
    "gen = \",\".join(gen)\n",
    "\n",
    "full = org + \",\" + gen\n",
    "\n",
    "res = mcc_waves.notes_to_waveform(gen, bpm=100, wave_function=mcc_waves.triangle_wave)\n",
    "ipd.Audio(res, rate=sr)"
   ]
  },
  {
   "cell_type": "code",
   "execution_count": 6,
   "id": "fdc8008a-56ea-4d4d-936e-3ff2bcdca125",
   "metadata": {},
   "outputs": [
    {
     "ename": "NameError",
     "evalue": "name 'mcc_parser' is not defined",
     "output_type": "error",
     "traceback": [
      "\u001b[1;31m---------------------------------------------------------------------------\u001b[0m",
      "\u001b[1;31mNameError\u001b[0m                                 Traceback (most recent call last)",
      "Input \u001b[1;32mIn [6]\u001b[0m, in \u001b[0;36m<module>\u001b[1;34m\u001b[0m\n\u001b[1;32m----> 1\u001b[0m castlevania \u001b[38;5;241m=\u001b[39m \u001b[43mmcc_parser\u001b[49m\u001b[38;5;241m.\u001b[39mopen_midi(\u001b[38;5;124m\"\u001b[39m\u001b[38;5;124msrc/data/castlevania.mid\u001b[39m\u001b[38;5;124m\"\u001b[39m)\n\u001b[0;32m      2\u001b[0m \u001b[38;5;28mprint\u001b[39m(castlevania\u001b[38;5;241m.\u001b[39mtracks)\n",
      "\u001b[1;31mNameError\u001b[0m: name 'mcc_parser' is not defined"
     ]
    }
   ],
   "source": [
    "castlevania_track1 = \"16a4,32p,16a4,16p,16g4,16p,4g4,8d4,32p,16d4,32p,16c4,32p,16c4,32p,8d4,32p,8a#316p,4g4,8d4,32p,16d4,32p,16c4,32p,16c4,32p,8d4,32p,8a#3,32p,8d4,32p,16c4,32p,2p,32c5,4p,32a5,16p,32a5,32p,32g#5,16p,32g#5,32p,32g5,16p,32a5,16p,32a5,32p,32gp,32d5,32p,32c#5,32p,32c5,4p,32a5,16p,32a5,32p,32g#5,16p,32g#5,32p,32g5,16p,32,8c#5,32p,16e5,16p,8d5,32p,8a4,32p,16f4,16p,8a#4,32p,8c#5,32p,16e5,16p,8d5,32p2p,16f4,16p,8a#4,32p,8c#5,32p,16e5,16p,8c#5,32p,8e5,32p,16g5,16p,16a5,32p,16a5,8d4,32p,16g3,16p,16g3,16p,16c4,32p,8e4,32p,16a5,32p,16a5,32p,16a4,32p,1a4,16pp,16a4,16p,16g4,16p,4g4,8d4,32p,16d4,32p,16c4,32p,16c4,32p,8d4,32p,8a#3,32p,8d,8d4,32p,16d4,32p,16c4,32p,16c4,32p,8d4,32p,8a#3,32p,8d4,32p,16c4,32p,2g4,8p,34p,32a5,16p,32a5,32p,32g#5,16p,32g#5,32p,32g5,16p,32a5,16p,32a5,32p,32g#5,16p,2p,8a4,32p,16f4,16p,8a#4,32p,8c#5,32p,16e5,16p,8d5,32p,16a4,4p,8a#4,32p,8c#5,32p,16e5,16p,8d5,32p,8a4,32p,16f4,16p,8a#4,32p,8c#5,32p,16e5,16p,8c#5,32p,8e5,32p,16g5,16p,16a5,32p,16a5,32p,16a4,32p,1a4,16p,16f3,16p,16f3,16p,16a#3,32p,8d4,32p,16g3,16p,16g3,16p,16c4,32p,8e4,32p,16a5,32p,16a5,32p,16a4,32p,1a4,16p,16f3,16p,16f3,16p,16a#3,32p,8d4,32p,16g3\"\n",
    "mm = mcc_markov.KMarkov(3)\n",
    "mm.fit(castlevania_track1)\n",
    "gen = mm.predict(100, DEBUG_LVL=0)\n",
    "gen = \",\".join(gen)\n",
    "\n",
    "full = castlevania_track1 + \",\" + gen\n",
    "\n",
    "res = mcc_waves.notes_to_waveform(gen, bpm=100, wave_function=mcc_waves.triangle_wave)\n",
    "ipd.Audio(res, rate=sr)"
   ]
  },
  {
   "cell_type": "code",
   "execution_count": null,
   "id": "319dd90e-ccb2-4fd3-827b-61f8359be9fb",
   "metadata": {},
   "outputs": [],
   "source": []
  }
 ],
 "metadata": {
  "kernelspec": {
   "display_name": "Python 3 (ipykernel)",
   "language": "python",
   "name": "python3"
  },
  "language_info": {
   "codemirror_mode": {
    "name": "ipython",
    "version": 3
   },
   "file_extension": ".py",
   "mimetype": "text/x-python",
   "name": "python",
   "nbconvert_exporter": "python",
   "pygments_lexer": "ipython3",
   "version": "3.10.2"
  }
 },
 "nbformat": 4,
 "nbformat_minor": 5
}
