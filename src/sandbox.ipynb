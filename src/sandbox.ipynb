{
 "cells": [
  {
   "cell_type": "markdown",
   "id": "bc14eb22",
   "metadata": {},
   "source": [
    "## Chiptune Generation Project Sandbox\n",
    "\n",
    "Notebook for trying out some code in an interactive, sandbox-like environment."
   ]
  },
  {
   "cell_type": "code",
   "execution_count": 1,
   "id": "64e49203",
   "metadata": {},
   "outputs": [],
   "source": [
    "from modules import mcc_parser, mcc_markov, mcc_waves, mcc_builder\n",
    "\n",
    "import IPython.display as ipd\n",
    "import matplotlib.pyplot as plt\n",
    "%matplotlib inline\n",
    "\n",
    "sr = 44100"
   ]
  },
  {
   "cell_type": "code",
   "execution_count": 3,
   "id": "319dd90e-ccb2-4fd3-827b-61f8359be9fb",
   "metadata": {},
   "outputs": [],
   "source": [
    "\"\"\"\n",
    "Single track example.\n",
    "\"\"\"\n",
    "\n",
    "# Open the MidiFile.\n",
    "mid = mcc_parser.open_midi(\"data/Zgbreve.mid\")\n",
    "# Extract attributes such as tempo and time signature from header track.\n",
    "info = mcc_parser.extract_midi_info(mid.tracks[0])\n",
    "tracks = mcc_parser.extract_midi_tracks(mid.tracks)\n",
    "\n",
    "# First track.\n",
    "track = mcc_parser.midi_to_rtttl(tracks[0], mid.ticks_per_beat)\n",
    "\n",
    "# Train and predict.\n",
    "mm = mcc_markov.KMarkov(3)\n",
    "mm.fit(track)\n",
    "# Passing the track we just trained on allows us to control the starting note of prediction.\n",
    "gen = mm.predict(samples=50, priors=track)\n",
    "\n",
    "# Join the original notes with the generated notes.\n",
    "full = mcc_builder.join(track, \",\", gen)\n",
    "\n",
    "# Render the notes as a waveform.\n",
    "res = mcc_waves.notes_to_waveform(full, bpm=info[\"tempo\"][0], wave_function=mcc_waves.triangle_wave)"
   ]
  },
  {
   "cell_type": "code",
   "execution_count": 5,
   "id": "c6d2c0a6",
   "metadata": {
    "scrolled": false
   },
   "outputs": [],
   "source": [
    "# ipd.Audio(res, rate=sr)"
   ]
  },
  {
   "cell_type": "code",
   "execution_count": 4,
   "id": "922aed18",
   "metadata": {},
   "outputs": [],
   "source": [
    "res = mcc_waves.notes_to_waveform(track, bpm=info[\"tempo\"][0], wave_function=mcc_waves.triangle_wave)\n",
    "# ipd.Audio(res, rate=sr)"
   ]
  },
  {
   "cell_type": "code",
   "execution_count": 3,
   "id": "8307a1c3",
   "metadata": {
    "scrolled": true
   },
   "outputs": [],
   "source": [
    "\"\"\"\n",
    "Multi-track example. Specify out_type: 0=original, 1=generated, 2(orelse)=concatenated.\n",
    "\"\"\"\n",
    "\n",
    "def create_multitrack(fname, out_type=0):\n",
    "    # Open the MidiFile.\n",
    "    mid = mcc_parser.open_midi(fname)\n",
    "    # Extract attributes such as tempo and time signature from header track.\n",
    "    info = mcc_parser.extract_midi_info(mid.tracks[0])\n",
    "    tracks = mcc_parser.extract_midi_tracks(mid.tracks)\n",
    "    \n",
    "    output_tracks = []\n",
    "\n",
    "    for track in tracks:\n",
    "        track = mcc_parser.midi_to_rtttl(track, mid.ticks_per_beat)\n",
    "\n",
    "        # Train and predict.\n",
    "        mm = mcc_markov.KMarkov(30)\n",
    "        mm.fit(track)\n",
    "        gen = mm.predict(50)\n",
    "\n",
    "        # Join the original notes with the generated notes.\n",
    "        full = mcc_builder.join(track, \",\", gen)\n",
    "\n",
    "        # Render the notes as a waveform.\n",
    "        if out_type == 0:\n",
    "            res = mcc_waves.notes_to_waveform(track, bpm=info[\"tempo\"][0], wave_function=mcc_waves.triangle_wave)\n",
    "        elif out_type == 1:\n",
    "            res = mcc_waves.notes_to_waveform(gen, bpm=info[\"tempo\"][0], wave_function=mcc_waves.triangle_wave)\n",
    "        else:    \n",
    "            res = mcc_waves.notes_to_waveform(full, bpm=info[\"tempo\"][0], wave_function=mcc_waves.triangle_wave)\n",
    "        \n",
    "        output_tracks.append(res)\n",
    "\n",
    "    # TODO: this track combination does not line up the \n",
    "    # tracks correctly. Results in tracks out of sync.\n",
    "    return mcc_builder.combine_tracks(output_tracks)"
   ]
  },
  {
   "cell_type": "code",
   "execution_count": 6,
   "id": "1eec4ad1",
   "metadata": {},
   "outputs": [],
   "source": [
    "# Output wavs of the original and generated \n",
    "in_song = \"data/Zgbreve.mid\"\n",
    "mcc_builder.export_to_wav(create_multitrack(song, 0), sr, \"zgbreve_org\")\n",
    "mcc_builder.export_to_wav(create_multitrack(song, 1), sr, \"zgbreve_gen\")"
   ]
  },
  {
   "cell_type": "code",
   "execution_count": 7,
   "id": "0c33be92",
   "metadata": {},
   "outputs": [
    {
     "data": {
      "image/png": "[encoded data removed]",
      "text/plain": [
       "<Figure size 432x288 with 2 Axes>"
      ]
     },
     "metadata": {
      "needs_background": "light"
     },
     "output_type": "display_data"
    }
   ],
   "source": [
    "import librosa\n",
    "import librosa.display\n",
    "\n",
    "org, org_sr = librosa.load(\"out/zgbreve_org.wav\")\n",
    "gen, gen_sr = librosa.load(\"out/zgbreve_gen.wav\")\n",
    "\n",
    "mfcc_org = librosa.feature.mfcc(y=org, sr=gen_sr)\n",
    "mfcc_gen = librosa.feature.mfcc(y=gen, sr=org_sr)\n",
    "\n",
    "xsim = librosa.segment.cross_similarity(mfcc_org, mfcc_gen, mode=\"affinity\", metric=\"cosine\")\n",
    "\n",
    "img = librosa.display.specshow(xsim, x_axis=\"s\", y_axis=\"s\", cmap=\"magma_r\")\n",
    "\n",
    "plt.title(\"Affinity Recurrence Mode\")\n",
    "plt.colorbar(img, orientation=\"horizontal\")\n",
    "plt.show()"
   ]
  },
  {
   "cell_type": "code",
   "execution_count": null,
   "id": "36a492e9",
   "metadata": {},
   "outputs": [],
   "source": []
  }
 ],
 "metadata": {
  "kernelspec": {
   "display_name": "Python 3 (ipykernel)",
   "language": "python",
   "name": "python3"
  },
  "language_info": {
   "codemirror_mode": {
    "name": "ipython",
    "version": 3
   },
   "file_extension": ".py",
   "mimetype": "text/x-python",
   "name": "python",
   "nbconvert_exporter": "python",
   "pygments_lexer": "ipython3",
   "version": "3.8.10"
  }
 },
 "nbformat": 4,
 "nbformat_minor": 5
}
