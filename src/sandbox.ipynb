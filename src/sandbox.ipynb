{
 "cells": [
  {
   "cell_type": "markdown",
   "id": "bc14eb22",
   "metadata": {},
   "source": [
    "## Chiptune Generation Project Sandbox\n",
    "\n",
    "Notebook for trying out some code in an interactive, sandbox-like environment."
   ]
  },
  {
   "cell_type": "code",
   "execution_count": 1,
   "id": "64e49203",
   "metadata": {},
   "outputs": [],
   "source": [
    "from modules import mcc_waves, mcc_markov, mcc_builder, mcc_parser\n",
    "\n",
    "import IPython.display as ipd\n",
    "import matplotlib.pyplot as plt\n",
    "%matplotlib inline\n",
    "\n",
    "sr = 44100"
   ]
  },
  {
   "cell_type": "code",
   "execution_count": null,
   "id": "a79b54bb-5bf1-4baf-ab97-1acd80a838bc",
   "metadata": {},
   "outputs": [],
   "source": []
  },
  {
   "cell_type": "code",
   "execution_count": 2,
   "id": "a6836550",
   "metadata": {
    "scrolled": true
   },
   "outputs": [],
   "source": [
    "org = \"16e6,16e6,32p,8e6,16c6,8e6,8g6,8p,8g,8p,8c6,16p,8g,16p,8e,16p,8a,8b,16a#,8a,16g.,16e6,16g6,8a6,16f6,8g6,8e6,16c6,16d6,8b,16p,8c6,16p,8g,16p,8e,16p,8a,8b,16a#,8a,16g.,16e6,16g6,8a6,16f6,8g6,8e6,16c6,16d6,8b,8p,16g6,16f#6,16f6,16d#6,16p,16e6,16p,16g#,16a,16c6,16p,16a,16c6,16d6,8p,16g6,16f#6,16f6,16d#6,16p,16e6,16p,16c7,16p,16c7,16c7,p,16g6,16f#6,16f6,16d#6,16p,16e6,16p,16g#,16a,16c6,16p,16a,16c6,16d6,8p,16d#6,8p,16d6,8p,16c6\"\n",
    "\n",
    "mm = mcc_markov.KMarkov(3)\n",
    "mm.fit(org)\n",
    "gen = mm.predict(100, DEBUG_LVL=0)\n",
    "gen = \",\".join(gen)\n",
    "\n",
    "full = org + \",\" + gen\n",
    "\n",
    "res = mcc_waves.notes_to_waveform(gen, bpm=100, wave_function=mcc_waves.triangle_wave)\n",
    "# ipd.Audio(res, rate=sr)"
   ]
  },
  {
   "cell_type": "code",
   "execution_count": 3,
   "id": "fdc8008a-56ea-4d4d-936e-3ff2bcdca125",
   "metadata": {},
   "outputs": [
    {
     "ename": "NameError",
     "evalue": "name 'castlevania_track1' is not defined",
     "output_type": "error",
     "traceback": [
      "\u001b[0;31m---------------------------------------------------------------------------\u001b[0m",
      "\u001b[0;31mNameError\u001b[0m                                 Traceback (most recent call last)",
      "Input \u001b[0;32mIn [3]\u001b[0m, in \u001b[0;36m<module>\u001b[0;34m\u001b[0m\n\u001b[1;32m      1\u001b[0m org \u001b[38;5;241m=\u001b[39m \u001b[38;5;124m\"\u001b[39m\u001b[38;5;124m16a4,32p,16a4,16p,16g4,16p,4g4,8d4,32p,16d4,32p,16c4,32p,16c4,32p,8d4,32p,8a#316p,4g4,8d4,32p,16d4,32p,16c4,32p,16c4,32p,8d4,32p,8a#3,32p,8d4,32p,16c4,32p,2p,32c5,4p,32a5,16p,32a5,32p,32g#5,16p,32g#5,32p,32g5,16p,32a5,16p,32a5,32p,32gp,32d5,32p,32c#5,32p,32c5,4p,32a5,16p,32a5,32p,32g#5,16p,32g#5,32p,32g5,16p,8c#5,32p,16e5,16p,8d5,32p,8a4,32p,16f4,16p,8a#4,32p,8c#5,32p,16e5,16p,8d5,32p2p,16f4,16p,8a#4,32p,8c#5,32p,16e5,16p,8c#5,32p,8e5,32p,16g5,16p,16a5,32p,16a5,8d4,32p,16g3,16p,16g3,16p,16c4,32p,8e4,32p,16a5,32p,16a5,32p,16a4,32p,1a4,16pp,16a4,16p,16g4,16p,4g4,8d4,32p,16d4,32p,16c4,32p,16c4,32p,8d4,32p,8a#3,32p,8d,8d4,32p,16d4,32p,16c4,32p,16c4,32p,8d4,32p,8a#3,32p,8d4,32p,16c4,32p,2g4,8p,34p,32a5,16p,32a5,32p,32g#5,16p,32g#5,32p,32g5,16p,32a5,16p,32a5,32p,32g#5,16p,2p,8a4,32p,16f4,16p,8a#4,32p,8c#5,32p,16e5,16p,8d5,32p,16a4,4p,8a#4,32p,8c#5,32p,16e5,16p,8d5,32p,8a4,32p,16f4,16p,8a#4,32p,8c#5,32p,16e5,16p,8c#5,32p,8e5,32p,16g5,16p,16a5,32p,16a5,32p,16a4,32p,1a4,16p,16f3,16p,16f3,16p,16a#3,32p,8d4,32p,16g3,16p,16g3,16p,16c4,32p,8e4,32p,16a5,32p,16a5,32p,16a4,32p,1a4,16p,16f3,16p,16f3,16p,16a#3,32p,8d4,32p,16g3\u001b[39m\u001b[38;5;124m\"\u001b[39m\n\u001b[1;32m      2\u001b[0m mm \u001b[38;5;241m=\u001b[39m mcc_markov\u001b[38;5;241m.\u001b[39mKMarkov(\u001b[38;5;241m3\u001b[39m)\n\u001b[0;32m----> 3\u001b[0m mm\u001b[38;5;241m.\u001b[39mfit(\u001b[43mcastlevania_track1\u001b[49m)\n\u001b[1;32m      4\u001b[0m gen \u001b[38;5;241m=\u001b[39m mm\u001b[38;5;241m.\u001b[39mpredict(\u001b[38;5;241m100\u001b[39m, DEBUG_LVL\u001b[38;5;241m=\u001b[39m\u001b[38;5;241m0\u001b[39m)\n\u001b[1;32m      5\u001b[0m gen \u001b[38;5;241m=\u001b[39m \u001b[38;5;124m\"\u001b[39m\u001b[38;5;124m,\u001b[39m\u001b[38;5;124m\"\u001b[39m\u001b[38;5;241m.\u001b[39mjoin(gen)\n",
      "\u001b[0;31mNameError\u001b[0m: name 'castlevania_track1' is not defined"
     ]
    }
   ],
   "source": [
    "org = \"16a4,32p,16a4,16p,16g4,16p,4g4,8d4,32p,16d4,32p,16c4,32p,16c4,32p,8d4,32p,8a#316p,4g4,8d4,32p,16d4,32p,16c4,32p,16c4,32p,8d4,32p,8a#3,32p,8d4,32p,16c4,32p,2p,32c5,4p,32a5,16p,32a5,32p,32g#5,16p,32g#5,32p,32g5,16p,32a5,16p,32a5,32p,32gp,32d5,32p,32c#5,32p,32c5,4p,32a5,16p,32a5,32p,32g#5,16p,32g#5,32p,32g5,16p,8c#5,32p,16e5,16p,8d5,32p,8a4,32p,16f4,16p,8a#4,32p,8c#5,32p,16e5,16p,8d5,32p2p,16f4,16p,8a#4,32p,8c#5,32p,16e5,16p,8c#5,32p,8e5,32p,16g5,16p,16a5,32p,16a5,8d4,32p,16g3,16p,16g3,16p,16c4,32p,8e4,32p,16a5,32p,16a5,32p,16a4,32p,1a4,16pp,16a4,16p,16g4,16p,4g4,8d4,32p,16d4,32p,16c4,32p,16c4,32p,8d4,32p,8a#3,32p,8d,8d4,32p,16d4,32p,16c4,32p,16c4,32p,8d4,32p,8a#3,32p,8d4,32p,16c4,32p,2g4,8p,34p,32a5,16p,32a5,32p,32g#5,16p,32g#5,32p,32g5,16p,32a5,16p,32a5,32p,32g#5,16p,2p,8a4,32p,16f4,16p,8a#4,32p,8c#5,32p,16e5,16p,8d5,32p,16a4,4p,8a#4,32p,8c#5,32p,16e5,16p,8d5,32p,8a4,32p,16f4,16p,8a#4,32p,8c#5,32p,16e5,16p,8c#5,32p,8e5,32p,16g5,16p,16a5,32p,16a5,32p,16a4,32p,1a4,16p,16f3,16p,16f3,16p,16a#3,32p,8d4,32p,16g3,16p,16g3,16p,16c4,32p,8e4,32p,16a5,32p,16a5,32p,16a4,32p,1a4,16p,16f3,16p,16f3,16p,16a#3,32p,8d4,32p,16g3\"\n",
    "mm = mcc_markov.KMarkov(3)\n",
    "mm.fit(castlevania_track1)\n",
    "gen = mm.predict(100, DEBUG_LVL=0)\n",
    "gen = \",\".join(gen)\n",
    "\n",
    "full = org + \",\" + gen\n",
    "\n",
    "res = mcc_waves.notes_to_waveform(full, bpm=110, wave_function=mcc_waves.triangle_wave)\n",
    "# ipd.Audio(res, rate=sr)"
   ]
  },
  {
   "cell_type": "code",
   "execution_count": null,
   "id": "319dd90e-ccb2-4fd3-827b-61f8359be9fb",
   "metadata": {},
   "outputs": [],
   "source": []
  }
 ],
 "metadata": {
  "kernelspec": {
   "display_name": "Python 3 (ipykernel)",
   "language": "python",
   "name": "python3"
  },
  "language_info": {
   "codemirror_mode": {
    "name": "ipython",
    "version": 3
   },
   "file_extension": ".py",
   "mimetype": "text/x-python",
   "name": "python",
   "nbconvert_exporter": "python",
   "pygments_lexer": "ipython3",
   "version": "3.8.10"
  }
 },
 "nbformat": 4,
 "nbformat_minor": 5
}
